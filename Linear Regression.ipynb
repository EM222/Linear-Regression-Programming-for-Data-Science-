{
 "cells": [
  {
   "cell_type": "code",
   "execution_count": 1,
   "id": "4de10878",
   "metadata": {},
   "outputs": [
    {
     "name": "stdout",
     "output_type": "stream",
     "text": [
      "[3.74540119 9.50714306 7.31993942 5.98658484 1.5601864  1.5599452\n",
      " 0.58083612 8.66176146 6.01115012 7.08072578 0.20584494 9.69909852\n",
      " 8.32442641 2.12339111 1.81824967 1.8340451  3.04242243 5.24756432\n",
      " 4.31945019 2.9122914  6.11852895 1.39493861 2.92144649 3.66361843\n",
      " 4.56069984 7.85175961 1.99673782 5.14234438 5.92414569 0.46450413\n",
      " 6.07544852 1.70524124 0.65051593 9.48885537 9.65632033 8.08397348\n",
      " 3.04613769 0.97672114 6.84233027 4.40152494]\n",
      "[ 6.47730515 16.9565752  14.46242375  9.75232603  2.3292364   0.16022028\n",
      " -1.16651381 16.52038415 11.76076681 13.33281984 -0.7039584  18.09709335\n",
      " 14.17033083  2.52693801  2.17586057  3.72521242  5.42846315  7.73208848\n",
      "  7.96298434  4.43950052 10.56013589  2.4015535   5.87389249  7.25851698\n",
      "  7.28218216 14.39430685  3.32473907 10.2602339  10.36911714 -0.25665072\n",
      " 10.04456206  1.21427585  1.11355768 19.33395077 18.24063054 16.17147986\n",
      "  5.45391141  0.30832253 13.04605614  9.34108644]\n"
     ]
    },
    {
     "data": {
      "image/png": "[encoded data removed]",
      "text/plain": [
       "<Figure size 432x288 with 1 Axes>"
      ]
     },
     "metadata": {
      "needs_background": "light"
     },
     "output_type": "display_data"
    }
   ],
   "source": [
    "import matplotlib.pyplot as plt\n",
    "import numpy as np\n",
    "rng = np.random.RandomState(42)\n",
    "x = 10 * rng.rand(40)\n",
    "y = 2 * x - 1 + rng.randn(40)\n",
    "print (x)\n",
    "print (y)\n",
    "plt.scatter(x, y);"
   ]
  },
  {
   "cell_type": "code",
   "execution_count": 2,
   "id": "aff53e43",
   "metadata": {},
   "outputs": [],
   "source": [
    "from sklearn.linear_model import LinearRegression"
   ]
  },
  {
   "cell_type": "code",
   "execution_count": 3,
   "id": "67f344ba",
   "metadata": {},
   "outputs": [
    {
     "data": {
      "text/plain": [
       "LinearRegression()"
      ]
     },
     "execution_count": 3,
     "metadata": {},
     "output_type": "execute_result"
    }
   ],
   "source": [
    "model = LinearRegression(fit_intercept=True)\n",
    "model\n"
   ]
  },
  {
   "cell_type": "code",
   "execution_count": 4,
   "id": "54ef118e",
   "metadata": {},
   "outputs": [
    {
     "data": {
      "text/plain": [
       "(40, 1)"
      ]
     },
     "execution_count": 4,
     "metadata": {},
     "output_type": "execute_result"
    }
   ],
   "source": [
    "X = x[:, np.newaxis]\n",
    "X.shape"
   ]
  },
  {
   "cell_type": "code",
   "execution_count": 5,
   "id": "ae5ca1a9",
   "metadata": {},
   "outputs": [
    {
     "data": {
      "text/plain": [
       "LinearRegression()"
      ]
     },
     "execution_count": 5,
     "metadata": {},
     "output_type": "execute_result"
    }
   ],
   "source": [
    "model.fit(X, y)"
   ]
  },
  {
   "cell_type": "code",
   "execution_count": 6,
   "id": "2f943938",
   "metadata": {},
   "outputs": [
    {
     "data": {
      "text/plain": [
       "array([2.0133901])"
      ]
     },
     "execution_count": 6,
     "metadata": {},
     "output_type": "execute_result"
    }
   ],
   "source": [
    "model.coef_"
   ]
  },
  {
   "cell_type": "code",
   "execution_count": 7,
   "id": "78eaddf5",
   "metadata": {},
   "outputs": [
    {
     "data": {
      "text/plain": [
       "-1.1395090019483742"
      ]
     },
     "execution_count": 7,
     "metadata": {},
     "output_type": "execute_result"
    }
   ],
   "source": [
    "model.intercept_"
   ]
  },
  {
   "cell_type": "code",
   "execution_count": 8,
   "id": "5dfce059",
   "metadata": {},
   "outputs": [
    {
     "data": {
      "text/plain": [
       "Text(0, 0.5, 'Y')"
      ]
     },
     "execution_count": 8,
     "metadata": {},
     "output_type": "execute_result"
    },
    {
     "data": {
      "image/png": "[encoded data removed]",
      "text/plain": [
       "<Figure size 432x288 with 1 Axes>"
      ]
     },
     "metadata": {
      "needs_background": "light"
     },
     "output_type": "display_data"
    }
   ],
   "source": [
    "plt.title(\"X vs Y\")\n",
    "plt.scatter(x, y);\n",
    "plt.plot(x, (model.coef_*x)+(model.intercept_),color='red')\n",
    "plt.xlabel(\"X\")\n",
    "plt.ylabel(\"Y\")"
   ]
  },
  {
   "cell_type": "code",
   "execution_count": 13,
   "id": "65f7f3f2",
   "metadata": {},
   "outputs": [
    {
     "data": {
      "text/plain": [
       "array([3.74540119, 9.50714306, 7.31993942, 5.98658484, 1.5601864 ,\n",
       "       1.5599452 , 0.58083612, 8.66176146, 6.01115012, 7.08072578,\n",
       "       0.20584494, 9.69909852, 8.32442641, 2.12339111, 1.81824967,\n",
       "       1.8340451 , 3.04242243, 5.24756432, 4.31945019, 2.9122914 ,\n",
       "       6.11852895, 1.39493861, 2.92144649, 3.66361843, 4.56069984,\n",
       "       7.85175961, 1.99673782, 5.14234438, 5.92414569, 0.46450413,\n",
       "       6.07544852, 1.70524124, 0.65051593, 9.48885537, 9.65632033,\n",
       "       8.08397348, 3.04613769, 0.97672114, 6.84233027, 4.40152494])"
      ]
     },
     "execution_count": 13,
     "metadata": {},
     "output_type": "execute_result"
    }
   ],
   "source": [
    "##Predict labels for unknown data.\n",
    "xfit = np.linspace(-1, 11, 40)\n",
    "x"
   ]
  },
  {
   "cell_type": "code",
   "execution_count": 15,
   "id": "835d6209",
   "metadata": {},
   "outputs": [
    {
     "data": {
      "text/plain": [
       "(40,)"
      ]
     },
     "execution_count": 15,
     "metadata": {},
     "output_type": "execute_result"
    }
   ],
   "source": [
    "xfit.shape"
   ]
  },
  {
   "cell_type": "code",
   "execution_count": 17,
   "id": "31d84a57",
   "metadata": {},
   "outputs": [
    {
     "data": {
      "text/plain": [
       "array([[-1.        ],\n",
       "       [-0.69230769],\n",
       "       [-0.38461538],\n",
       "       [-0.07692308],\n",
       "       [ 0.23076923],\n",
       "       [ 0.53846154],\n",
       "       [ 0.84615385],\n",
       "       [ 1.15384615],\n",
       "       [ 1.46153846],\n",
       "       [ 1.76923077],\n",
       "       [ 2.07692308],\n",
       "       [ 2.38461538],\n",
       "       [ 2.69230769],\n",
       "       [ 3.        ],\n",
       "       [ 3.30769231],\n",
       "       [ 3.61538462],\n",
       "       [ 3.92307692],\n",
       "       [ 4.23076923],\n",
       "       [ 4.53846154],\n",
       "       [ 4.84615385],\n",
       "       [ 5.15384615],\n",
       "       [ 5.46153846],\n",
       "       [ 5.76923077],\n",
       "       [ 6.07692308],\n",
       "       [ 6.38461538],\n",
       "       [ 6.69230769],\n",
       "       [ 7.        ],\n",
       "       [ 7.30769231],\n",
       "       [ 7.61538462],\n",
       "       [ 7.92307692],\n",
       "       [ 8.23076923],\n",
       "       [ 8.53846154],\n",
       "       [ 8.84615385],\n",
       "       [ 9.15384615],\n",
       "       [ 9.46153846],\n",
       "       [ 9.76923077],\n",
       "       [10.07692308],\n",
       "       [10.38461538],\n",
       "       [10.69230769],\n",
       "       [11.        ]])"
      ]
     },
     "execution_count": 17,
     "metadata": {},
     "output_type": "execute_result"
    }
   ],
   "source": [
    "Xfit = xfit[:, np.newaxis]\n",
    "Xfit"
   ]
  },
  {
   "cell_type": "code",
   "execution_count": 18,
   "id": "a7ee8899",
   "metadata": {},
   "outputs": [
    {
     "data": {
      "text/plain": [
       "array([-3.1528991 , -2.53339445, -1.91388981, -1.29438516, -0.67488052,\n",
       "       -0.05537587,  0.56412877,  1.18363342,  1.80313806,  2.42264271,\n",
       "        3.04214736,  3.661652  ,  4.28115665,  4.90066129,  5.52016594,\n",
       "        6.13967058,  6.75917523,  7.37867988,  7.99818452,  8.61768917,\n",
       "        9.23719381,  9.85669846, 10.4762031 , 11.09570775, 11.7152124 ,\n",
       "       12.33471704, 12.95422169, 13.57372633, 14.19323098, 14.81273562,\n",
       "       15.43224027, 16.05174492, 16.67124956, 17.29075421, 17.91025885,\n",
       "       18.5297635 , 19.14926814, 19.76877279, 20.38827743, 21.00778208])"
      ]
     },
     "execution_count": 18,
     "metadata": {},
     "output_type": "execute_result"
    }
   ],
   "source": [
    "yfit = model.predict(Xfit)\n",
    "yfit"
   ]
  },
  {
   "cell_type": "code",
   "execution_count": 19,
   "id": "1cbe6512",
   "metadata": {},
   "outputs": [
    {
     "name": "stdout",
     "output_type": "stream",
     "text": [
      "coefficient of determination: 0.9780949186629684\n"
     ]
    }
   ],
   "source": [
    "r_sq = model.score(X, y)\n",
    "print('coefficient of determination:', r_sq)"
   ]
  },
  {
   "cell_type": "code",
   "execution_count": 20,
   "id": "0cfea334",
   "metadata": {},
   "outputs": [
    {
     "name": "stdout",
     "output_type": "stream",
     "text": [
      "Mean Squared Error: 0.7738965173505659\n"
     ]
    }
   ],
   "source": [
    "from sklearn import metrics\n",
    "print('Mean Squared Error:',\n",
    "metrics.mean_squared_error(y,(model.coef_*x)+(model.intercept_)))"
   ]
  },
  {
   "cell_type": "code",
   "execution_count": 21,
   "id": "fab2fd98",
   "metadata": {},
   "outputs": [
    {
     "name": "stdout",
     "output_type": "stream",
     "text": [
      "[[ 0  1]\n",
      " [ 5  1]\n",
      " [15  2]\n",
      " [25  5]\n",
      " [35 11]\n",
      " [45 15]\n",
      " [55 34]\n",
      " [60 35]]\n",
      "[ 4  5 20 14 32 22 38 43]\n"
     ]
    }
   ],
   "source": [
    "##Multiple Linear Regressions (MLR)\n",
    "  ##MLR equation\n",
    "import numpy as np\n",
    "from sklearn.linear_model import LinearRegression\n",
    "x = [[0, 1], [5, 1], [15, 2], [25, 5], [35, 11], [45, 15], [55, 34],\n",
    "[60, 35]]\n",
    "y = [4, 5, 20, 14, 32, 22, 38, 43]\n",
    "x, y = np.array(x), np.array(y)\n",
    "print(x)\n",
    "print(y)"
   ]
  },
  {
   "cell_type": "code",
   "execution_count": 22,
   "id": "f3b06fa0",
   "metadata": {},
   "outputs": [],
   "source": [
    "model = LinearRegression()"
   ]
  },
  {
   "cell_type": "code",
   "execution_count": 23,
   "id": "221ec009",
   "metadata": {},
   "outputs": [
    {
     "data": {
      "text/plain": [
       "LinearRegression()"
      ]
     },
     "execution_count": 23,
     "metadata": {},
     "output_type": "execute_result"
    }
   ],
   "source": [
    "model.fit(x, y)"
   ]
  },
  {
   "cell_type": "code",
   "execution_count": 24,
   "id": "99701625",
   "metadata": {},
   "outputs": [],
   "source": [
    "model = LinearRegression().fit(x,y)"
   ]
  },
  {
   "cell_type": "code",
   "execution_count": 25,
   "id": "9ba38c0f",
   "metadata": {},
   "outputs": [
    {
     "name": "stdout",
     "output_type": "stream",
     "text": [
      "intercept: 5.52257927519819\n"
     ]
    }
   ],
   "source": [
    "print('intercept:', model.intercept_)"
   ]
  },
  {
   "cell_type": "code",
   "execution_count": 26,
   "id": "943c446c",
   "metadata": {},
   "outputs": [
    {
     "name": "stdout",
     "output_type": "stream",
     "text": [
      "slope: [0.44706965 0.25502548]\n"
     ]
    }
   ],
   "source": [
    "print('slope:', model.coef_)"
   ]
  },
  {
   "cell_type": "code",
   "execution_count": 27,
   "id": "069356cd",
   "metadata": {},
   "outputs": [
    {
     "name": "stdout",
     "output_type": "stream",
     "text": [
      "predicted response:\n",
      "[ 5.77760476  8.012953   12.73867497 17.9744479  23.97529728 29.4660957\n",
      " 38.78227633 41.27265006]\n"
     ]
    }
   ],
   "source": [
    "y_pred = model.predict(x)\n",
    "print('predicted response:', y_pred, sep='\\n')"
   ]
  },
  {
   "cell_type": "code",
   "execution_count": 28,
   "id": "cb559e72",
   "metadata": {},
   "outputs": [
    {
     "name": "stdout",
     "output_type": "stream",
     "text": [
      "[[0 1]\n",
      " [2 3]\n",
      " [4 5]\n",
      " [6 7]\n",
      " [8 9]]\n"
     ]
    }
   ],
   "source": [
    "x_new = np.arange(10).reshape((-1, 2))\n",
    "print(x_new)"
   ]
  },
  {
   "cell_type": "code",
   "execution_count": 31,
   "id": "efa5c626",
   "metadata": {},
   "outputs": [
    {
     "name": "stdout",
     "output_type": "stream",
     "text": [
      "[ 5.77760476  7.18179502  8.58598528  9.99017554 11.3943658 ]\n"
     ]
    }
   ],
   "source": [
    "y_new = model.predict(x_new)\n",
    "print(y_new)"
   ]
  },
  {
   "cell_type": "code",
   "execution_count": 32,
   "id": "5eb2ad96",
   "metadata": {},
   "outputs": [
    {
     "name": "stdout",
     "output_type": "stream",
     "text": [
      "coefficient of determination: 0.8615939258756775\n"
     ]
    }
   ],
   "source": [
    " r_sq = model.score(x, y)\n",
    " print('coefficient of determination:', r_sq)"
   ]
  },
  {
   "cell_type": "code",
   "execution_count": null,
   "id": "61712293",
   "metadata": {},
   "outputs": [],
   "source": []
  }
 ],
 "metadata": {
  "kernelspec": {
   "display_name": "Python 3 (ipykernel)",
   "language": "python",
   "name": "python3"
  },
  "language_info": {
   "codemirror_mode": {
    "name": "ipython",
    "version": 3
   },
   "file_extension": ".py",
   "mimetype": "text/x-python",
   "name": "python",
   "nbconvert_exporter": "python",
   "pygments_lexer": "ipython3",
   "version": "3.9.12"
  }
 },
 "nbformat": 4,
 "nbformat_minor": 5
}
